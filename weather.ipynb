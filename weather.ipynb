{
 "cells": [
  {
   "cell_type": "markdown",
   "id": "31418c6d",
   "metadata": {},
   "source": [
    "Напишем парсер погоды с сервиса openweather для дальнейшего использования в удобном виде."
   ]
  },
  {
   "cell_type": "code",
   "execution_count": 1,
   "id": "2ed6db1f",
   "metadata": {},
   "outputs": [],
   "source": [
    "\n",
    "import seaborn as sns \n",
    "import pandas as pd\n",
    "from matplotlib import pyplot as plt\n",
    "import plotly.express as px\n",
    "import plotly.graph_objects as go\n"
   ]
  },
  {
   "cell_type": "markdown",
   "id": "eac11edc",
   "metadata": {},
   "source": [
    "Запишем полученный API на сайте сервиса "
   ]
  },
  {
   "cell_type": "code",
   "execution_count": 2,
   "id": "5741d1ee",
   "metadata": {},
   "outputs": [],
   "source": [
    "api = '79d1ca96933b0328e1c7e3e7a26cb347'"
   ]
  },
  {
   "cell_type": "code",
   "execution_count": 12,
   "id": "18572056",
   "metadata": {
    "scrolled": true
   },
   "outputs": [],
   "source": [
    "import requests\n",
    "\n",
    "api_key = '79d1ca96933b0328e1c7e3e7a26cb347'\n",
    "city = 'Ростов-на-Дону'  \n",
    "url = f'http://api.openweathermap.org/data/2.5/forecast?q={city}&cnt=40&appid={api_key}&units=metric'\n",
    "\n",
    "data = requests.get(url).json()"
   ]
  },
  {
   "cell_type": "code",
   "execution_count": 44,
   "id": "aec676cb",
   "metadata": {},
   "outputs": [],
   "source": [
    "weather_data = []\n",
    "\n",
    "# Итерируемся по прогнозам и добавляем данные в список\n",
    "for forecast in data['list']:\n",
    "    weather_data.append({\n",
    "        \n",
    "        'Дата и время': forecast['dt_txt'],\n",
    "        'Минимальная температура': forecast['main']['temp_min'],\n",
    "        'Температура': forecast['main']['temp'],\n",
    "        'Максимальная температура': forecast['main']['temp_max'],\n",
    "        'Влажность': forecast['main']['humidity'],\n",
    "        'Видимость': forecast['visibility'],\n",
    "        'Скорость ветра': forecast['wind']['speed'],\n",
    "        'Направление ветра': forecast['wind']['deg'],\n",
    "        'Порывы': forecast['wind']['gust'],\n",
    "        'Описание': forecast['weather'][0]['description']\n",
    "    })\n",
    "\n",
    "# Создаем DataFrame из списка данных\n",
    "df = pd.DataFrame(weather_data)\n",
    "df['Дата и время'] = df['Дата и время'].astype(\"datetime64[ns]\")"
   ]
  },
  {
   "cell_type": "markdown",
   "id": "7c929b1a",
   "metadata": {},
   "source": [
    "Преобразуем направление ветра в читабельный вид."
   ]
  },
  {
   "cell_type": "code",
   "execution_count": 45,
   "id": "e383c575",
   "metadata": {
    "scrolled": true
   },
   "outputs": [
    {
     "data": {
      "text/html": [
       "<div>\n",
       "<style scoped>\n",
       "    .dataframe tbody tr th:only-of-type {\n",
       "        vertical-align: middle;\n",
       "    }\n",
       "\n",
       "    .dataframe tbody tr th {\n",
       "        vertical-align: top;\n",
       "    }\n",
       "\n",
       "    .dataframe thead th {\n",
       "        text-align: right;\n",
       "    }\n",
       "</style>\n",
       "<table border=\"1\" class=\"dataframe\">\n",
       "  <thead>\n",
       "    <tr style=\"text-align: right;\">\n",
       "      <th></th>\n",
       "      <th>Дата и время</th>\n",
       "      <th>Минимальная температура</th>\n",
       "      <th>Температура</th>\n",
       "      <th>Максимальная температура</th>\n",
       "      <th>Влажность</th>\n",
       "      <th>Видимость</th>\n",
       "      <th>Скорость ветра</th>\n",
       "      <th>Направление ветра</th>\n",
       "      <th>Порывы</th>\n",
       "      <th>Описание</th>\n",
       "    </tr>\n",
       "  </thead>\n",
       "  <tbody>\n",
       "    <tr>\n",
       "      <th>0</th>\n",
       "      <td>2024-02-26 21:00:00</td>\n",
       "      <td>-0.09</td>\n",
       "      <td>2.68</td>\n",
       "      <td>2.68</td>\n",
       "      <td>49</td>\n",
       "      <td>10000</td>\n",
       "      <td>8.07</td>\n",
       "      <td>В</td>\n",
       "      <td>18.00</td>\n",
       "      <td>clear sky</td>\n",
       "    </tr>\n",
       "    <tr>\n",
       "      <th>1</th>\n",
       "      <td>2024-02-27 00:00:00</td>\n",
       "      <td>-1.11</td>\n",
       "      <td>0.62</td>\n",
       "      <td>0.62</td>\n",
       "      <td>57</td>\n",
       "      <td>10000</td>\n",
       "      <td>7.79</td>\n",
       "      <td>В</td>\n",
       "      <td>17.22</td>\n",
       "      <td>clear sky</td>\n",
       "    </tr>\n",
       "    <tr>\n",
       "      <th>2</th>\n",
       "      <td>2024-02-27 03:00:00</td>\n",
       "      <td>-1.23</td>\n",
       "      <td>-1.23</td>\n",
       "      <td>-1.23</td>\n",
       "      <td>66</td>\n",
       "      <td>10000</td>\n",
       "      <td>7.78</td>\n",
       "      <td>В</td>\n",
       "      <td>17.54</td>\n",
       "      <td>clear sky</td>\n",
       "    </tr>\n",
       "    <tr>\n",
       "      <th>3</th>\n",
       "      <td>2024-02-27 06:00:00</td>\n",
       "      <td>0.17</td>\n",
       "      <td>0.17</td>\n",
       "      <td>0.17</td>\n",
       "      <td>61</td>\n",
       "      <td>10000</td>\n",
       "      <td>8.08</td>\n",
       "      <td>В</td>\n",
       "      <td>17.44</td>\n",
       "      <td>clear sky</td>\n",
       "    </tr>\n",
       "    <tr>\n",
       "      <th>4</th>\n",
       "      <td>2024-02-27 09:00:00</td>\n",
       "      <td>4.89</td>\n",
       "      <td>4.89</td>\n",
       "      <td>4.89</td>\n",
       "      <td>42</td>\n",
       "      <td>10000</td>\n",
       "      <td>8.86</td>\n",
       "      <td>В</td>\n",
       "      <td>14.18</td>\n",
       "      <td>clear sky</td>\n",
       "    </tr>\n",
       "  </tbody>\n",
       "</table>\n",
       "</div>"
      ],
      "text/plain": [
       "         Дата и время  Минимальная температура  Температура  \\\n",
       "0 2024-02-26 21:00:00                    -0.09         2.68   \n",
       "1 2024-02-27 00:00:00                    -1.11         0.62   \n",
       "2 2024-02-27 03:00:00                    -1.23        -1.23   \n",
       "3 2024-02-27 06:00:00                     0.17         0.17   \n",
       "4 2024-02-27 09:00:00                     4.89         4.89   \n",
       "\n",
       "   Максимальная температура  Влажность  Видимость  Скорость ветра  \\\n",
       "0                      2.68         49      10000            8.07   \n",
       "1                      0.62         57      10000            7.79   \n",
       "2                     -1.23         66      10000            7.78   \n",
       "3                      0.17         61      10000            8.08   \n",
       "4                      4.89         42      10000            8.86   \n",
       "\n",
       "  Направление ветра  Порывы   Описание  \n",
       "0                 В   18.00  clear sky  \n",
       "1                 В   17.22  clear sky  \n",
       "2                 В   17.54  clear sky  \n",
       "3                 В   17.44  clear sky  \n",
       "4                 В   14.18  clear sky  "
      ]
     },
     "execution_count": 45,
     "metadata": {},
     "output_type": "execute_result"
    }
   ],
   "source": [
    "df['Направление ветра'] = df['Направление ветра'].apply(lambda x:'C' if x <= 22 or x > 337 else \n",
    "                              ('CВ' if x <= 67 else\n",
    "                              ('В' if x <= 112 else\n",
    "                              ('ЮВ' if x <= 157 else\n",
    "                              ('Ю' if x <= 202 else\n",
    "                              ('ЮЗ' if x <= 247 else\n",
    "                              ('З' if x <= 292 else 'СЗ')))))))\n",
    "df.head()"
   ]
  },
  {
   "cell_type": "code",
   "execution_count": 46,
   "id": "25f217d2",
   "metadata": {},
   "outputs": [
    {
     "data": {
      "image/png": "[encoded data removed]",
      "text/plain": [
       "<Figure size 720x432 with 2 Axes>"
      ]
     },
     "metadata": {
      "needs_background": "light"
     },
     "output_type": "display_data"
    }
   ],
   "source": [
    "# Проверим корреляцию между метриками.\n",
    "plt.figure(figsize=(10,6))\n",
    "plt.title('Heatmap для основных метрик')\n",
    "sns.heatmap((df.corr()), annot=True)\n",
    "plt.show()"
   ]
  },
  {
   "cell_type": "markdown",
   "id": "e1942f90",
   "metadata": {},
   "source": [
    "Посмотрим на разброс минимальной, средней и максимальной температуры в течении нескольких дней."
   ]
  },
  {
   "cell_type": "code",
   "execution_count": 47,
   "id": "b298ebb8",
   "metadata": {},
   "outputs": [
    {
     "data": {
      "application/vnd.plotly.v1+json": {
       "config": {
        "plotlyServerURL": "https://plot.ly"
       },
       "data": [
        {
         "mode": "lines+markers",
         "name": "Температура",
         "type": "scatter",
         "x": [
          "2024-02-26T21:00:00",
          "2024-02-27T00:00:00",
          "2024-02-27T03:00:00",
          "2024-02-27T06:00:00",
          "2024-02-27T09:00:00",
          "2024-02-27T12:00:00",
          "2024-02-27T15:00:00",
          "2024-02-27T18:00:00",
          "2024-02-27T21:00:00",
          "2024-02-28T00:00:00",
          "2024-02-28T03:00:00",
          "2024-02-28T06:00:00",
          "2024-02-28T09:00:00",
          "2024-02-28T12:00:00",
          "2024-02-28T15:00:00",
          "2024-02-28T18:00:00",
          "2024-02-28T21:00:00",
          "2024-02-29T00:00:00",
          "2024-02-29T03:00:00",
          "2024-02-29T06:00:00",
          "2024-02-29T09:00:00",
          "2024-02-29T12:00:00",
          "2024-02-29T15:00:00",
          "2024-02-29T18:00:00",
          "2024-02-29T21:00:00",
          "2024-03-01T00:00:00",
          "2024-03-01T03:00:00",
          "2024-03-01T06:00:00",
          "2024-03-01T09:00:00",
          "2024-03-01T12:00:00",
          "2024-03-01T15:00:00",
          "2024-03-01T18:00:00",
          "2024-03-01T21:00:00",
          "2024-03-02T00:00:00",
          "2024-03-02T03:00:00",
          "2024-03-02T06:00:00",
          "2024-03-02T09:00:00",
          "2024-03-02T12:00:00",
          "2024-03-02T15:00:00",
          "2024-03-02T18:00:00"
         ],
         "y": [
          2.68,
          0.62,
          -1.23,
          0.17,
          4.89,
          7.01,
          5.06,
          2.48,
          0.26,
          -0.67,
          -0.96,
          0.18,
          5.2,
          7.44,
          5.45,
          3.16,
          1.58,
          0.22,
          -0.58,
          0.8,
          5.8,
          8.4,
          7.13,
          4.38,
          2.88,
          1.5,
          0.37,
          1.47,
          6.56,
          9,
          7.35,
          5.28,
          3.6,
          2.13,
          0.94,
          2.22,
          6.66,
          8.93,
          6.87,
          4.28
         ]
        },
        {
         "mode": "lines+markers",
         "name": "Минимальная температура",
         "type": "scatter",
         "x": [
          "2024-02-26T21:00:00",
          "2024-02-27T00:00:00",
          "2024-02-27T03:00:00",
          "2024-02-27T06:00:00",
          "2024-02-27T09:00:00",
          "2024-02-27T12:00:00",
          "2024-02-27T15:00:00",
          "2024-02-27T18:00:00",
          "2024-02-27T21:00:00",
          "2024-02-28T00:00:00",
          "2024-02-28T03:00:00",
          "2024-02-28T06:00:00",
          "2024-02-28T09:00:00",
          "2024-02-28T12:00:00",
          "2024-02-28T15:00:00",
          "2024-02-28T18:00:00",
          "2024-02-28T21:00:00",
          "2024-02-29T00:00:00",
          "2024-02-29T03:00:00",
          "2024-02-29T06:00:00",
          "2024-02-29T09:00:00",
          "2024-02-29T12:00:00",
          "2024-02-29T15:00:00",
          "2024-02-29T18:00:00",
          "2024-02-29T21:00:00",
          "2024-03-01T00:00:00",
          "2024-03-01T03:00:00",
          "2024-03-01T06:00:00",
          "2024-03-01T09:00:00",
          "2024-03-01T12:00:00",
          "2024-03-01T15:00:00",
          "2024-03-01T18:00:00",
          "2024-03-01T21:00:00",
          "2024-03-02T00:00:00",
          "2024-03-02T03:00:00",
          "2024-03-02T06:00:00",
          "2024-03-02T09:00:00",
          "2024-03-02T12:00:00",
          "2024-03-02T15:00:00",
          "2024-03-02T18:00:00"
         ],
         "y": [
          -0.09,
          -1.11,
          -1.23,
          0.17,
          4.89,
          7.01,
          5.06,
          2.48,
          0.26,
          -0.67,
          -0.96,
          0.18,
          5.2,
          7.44,
          5.45,
          3.16,
          1.58,
          0.22,
          -0.58,
          0.8,
          5.8,
          8.4,
          7.13,
          4.38,
          2.88,
          1.5,
          0.37,
          1.47,
          6.56,
          9,
          7.35,
          5.28,
          3.6,
          2.13,
          0.94,
          2.22,
          6.66,
          8.93,
          6.87,
          4.28
         ]
        },
        {
         "mode": "lines+markers",
         "name": "Максимальная температура",
         "type": "scatter",
         "x": [
          "2024-02-26T21:00:00",
          "2024-02-27T00:00:00",
          "2024-02-27T03:00:00",
          "2024-02-27T06:00:00",
          "2024-02-27T09:00:00",
          "2024-02-27T12:00:00",
          "2024-02-27T15:00:00",
          "2024-02-27T18:00:00",
          "2024-02-27T21:00:00",
          "2024-02-28T00:00:00",
          "2024-02-28T03:00:00",
          "2024-02-28T06:00:00",
          "2024-02-28T09:00:00",
          "2024-02-28T12:00:00",
          "2024-02-28T15:00:00",
          "2024-02-28T18:00:00",
          "2024-02-28T21:00:00",
          "2024-02-29T00:00:00",
          "2024-02-29T03:00:00",
          "2024-02-29T06:00:00",
          "2024-02-29T09:00:00",
          "2024-02-29T12:00:00",
          "2024-02-29T15:00:00",
          "2024-02-29T18:00:00",
          "2024-02-29T21:00:00",
          "2024-03-01T00:00:00",
          "2024-03-01T03:00:00",
          "2024-03-01T06:00:00",
          "2024-03-01T09:00:00",
          "2024-03-01T12:00:00",
          "2024-03-01T15:00:00",
          "2024-03-01T18:00:00",
          "2024-03-01T21:00:00",
          "2024-03-02T00:00:00",
          "2024-03-02T03:00:00",
          "2024-03-02T06:00:00",
          "2024-03-02T09:00:00",
          "2024-03-02T12:00:00",
          "2024-03-02T15:00:00",
          "2024-03-02T18:00:00"
         ],
         "y": [
          2.68,
          0.62,
          -1.23,
          0.17,
          4.89,
          7.01,
          5.06,
          2.48,
          0.26,
          -0.67,
          -0.96,
          0.18,
          5.2,
          7.44,
          5.45,
          3.16,
          1.58,
          0.22,
          -0.58,
          0.8,
          5.8,
          8.4,
          7.13,
          4.38,
          2.88,
          1.5,
          0.37,
          1.47,
          6.56,
          9,
          7.35,
          5.28,
          3.6,
          2.13,
          0.94,
          2.22,
          6.66,
          8.93,
          6.87,
          4.28
         ]
        }
       ],
       "layout": {
        "template": {
         "data": {
          "bar": [
           {
            "error_x": {
             "color": "#2a3f5f"
            },
            "error_y": {
             "color": "#2a3f5f"
            },
            "marker": {
             "line": {
              "color": "#E5ECF6",
              "width": 0.5
             },
             "pattern": {
              "fillmode": "overlay",
              "size": 10,
              "solidity": 0.2
             }
            },
            "type": "bar"
           }
          ],
          "barpolar": [
           {
            "marker": {
             "line": {
              "color": "#E5ECF6",
              "width": 0.5
             },
             "pattern": {
              "fillmode": "overlay",
              "size": 10,
              "solidity": 0.2
             }
            },
            "type": "barpolar"
           }
          ],
          "carpet": [
           {
            "aaxis": {
             "endlinecolor": "#2a3f5f",
             "gridcolor": "white",
             "linecolor": "white",
             "minorgridcolor": "white",
             "startlinecolor": "#2a3f5f"
            },
            "baxis": {
             "endlinecolor": "#2a3f5f",
             "gridcolor": "white",
             "linecolor": "white",
             "minorgridcolor": "white",
             "startlinecolor": "#2a3f5f"
            },
            "type": "carpet"
           }
          ],
          "choropleth": [
           {
            "colorbar": {
             "outlinewidth": 0,
             "ticks": ""
            },
            "type": "choropleth"
           }
          ],
          "contour": [
           {
            "colorbar": {
             "outlinewidth": 0,
             "ticks": ""
            },
            "colorscale": [
             [
              0,
              "#0d0887"
             ],
             [
              0.1111111111111111,
              "#46039f"
             ],
             [
              0.2222222222222222,
              "#7201a8"
             ],
             [
              0.3333333333333333,
              "#9c179e"
             ],
             [
              0.4444444444444444,
              "#bd3786"
             ],
             [
              0.5555555555555556,
              "#d8576b"
             ],
             [
              0.6666666666666666,
              "#ed7953"
             ],
             [
              0.7777777777777778,
              "#fb9f3a"
             ],
             [
              0.8888888888888888,
              "#fdca26"
             ],
             [
              1,
              "#f0f921"
             ]
            ],
            "type": "contour"
           }
          ],
          "contourcarpet": [
           {
            "colorbar": {
             "outlinewidth": 0,
             "ticks": ""
            },
            "type": "contourcarpet"
           }
          ],
          "heatmap": [
           {
            "colorbar": {
             "outlinewidth": 0,
             "ticks": ""
            },
            "colorscale": [
             [
              0,
              "#0d0887"
             ],
             [
              0.1111111111111111,
              "#46039f"
             ],
             [
              0.2222222222222222,
              "#7201a8"
             ],
             [
              0.3333333333333333,
              "#9c179e"
             ],
             [
              0.4444444444444444,
              "#bd3786"
             ],
             [
              0.5555555555555556,
              "#d8576b"
             ],
             [
              0.6666666666666666,
              "#ed7953"
             ],
             [
              0.7777777777777778,
              "#fb9f3a"
             ],
             [
              0.8888888888888888,
              "#fdca26"
             ],
             [
              1,
              "#f0f921"
             ]
            ],
            "type": "heatmap"
           }
          ],
          "heatmapgl": [
           {
            "colorbar": {
             "outlinewidth": 0,
             "ticks": ""
            },
            "colorscale": [
             [
              0,
              "#0d0887"
             ],
             [
              0.1111111111111111,
              "#46039f"
             ],
             [
              0.2222222222222222,
              "#7201a8"
             ],
             [
              0.3333333333333333,
              "#9c179e"
             ],
             [
              0.4444444444444444,
              "#bd3786"
             ],
             [
              0.5555555555555556,
              "#d8576b"
             ],
             [
              0.6666666666666666,
              "#ed7953"
             ],
             [
              0.7777777777777778,
              "#fb9f3a"
             ],
             [
              0.8888888888888888,
              "#fdca26"
             ],
             [
              1,
              "#f0f921"
             ]
            ],
            "type": "heatmapgl"
           }
          ],
          "histogram": [
           {
            "marker": {
             "pattern": {
              "fillmode": "overlay",
              "size": 10,
              "solidity": 0.2
             }
            },
            "type": "histogram"
           }
          ],
          "histogram2d": [
           {
            "colorbar": {
             "outlinewidth": 0,
             "ticks": ""
            },
            "colorscale": [
             [
              0,
              "#0d0887"
             ],
             [
              0.1111111111111111,
              "#46039f"
             ],
             [
              0.2222222222222222,
              "#7201a8"
             ],
             [
              0.3333333333333333,
              "#9c179e"
             ],
             [
              0.4444444444444444,
              "#bd3786"
             ],
             [
              0.5555555555555556,
              "#d8576b"
             ],
             [
              0.6666666666666666,
              "#ed7953"
             ],
             [
              0.7777777777777778,
              "#fb9f3a"
             ],
             [
              0.8888888888888888,
              "#fdca26"
             ],
             [
              1,
              "#f0f921"
             ]
            ],
            "type": "histogram2d"
           }
          ],
          "histogram2dcontour": [
           {
            "colorbar": {
             "outlinewidth": 0,
             "ticks": ""
            },
            "colorscale": [
             [
              0,
              "#0d0887"
             ],
             [
              0.1111111111111111,
              "#46039f"
             ],
             [
              0.2222222222222222,
              "#7201a8"
             ],
             [
              0.3333333333333333,
              "#9c179e"
             ],
             [
              0.4444444444444444,
              "#bd3786"
             ],
             [
              0.5555555555555556,
              "#d8576b"
             ],
             [
              0.6666666666666666,
              "#ed7953"
             ],
             [
              0.7777777777777778,
              "#fb9f3a"
             ],
             [
              0.8888888888888888,
              "#fdca26"
             ],
             [
              1,
              "#f0f921"
             ]
            ],
            "type": "histogram2dcontour"
           }
          ],
          "mesh3d": [
           {
            "colorbar": {
             "outlinewidth": 0,
             "ticks": ""
            },
            "type": "mesh3d"
           }
          ],
          "parcoords": [
           {
            "line": {
             "colorbar": {
              "outlinewidth": 0,
              "ticks": ""
             }
            },
            "type": "parcoords"
           }
          ],
          "pie": [
           {
            "automargin": true,
            "type": "pie"
           }
          ],
          "scatter": [
           {
            "fillpattern": {
             "fillmode": "overlay",
             "size": 10,
             "solidity": 0.2
            },
            "type": "scatter"
           }
          ],
          "scatter3d": [
           {
            "line": {
             "colorbar": {
              "outlinewidth": 0,
              "ticks": ""
             }
            },
            "marker": {
             "colorbar": {
              "outlinewidth": 0,
              "ticks": ""
             }
            },
            "type": "scatter3d"
           }
          ],
          "scattercarpet": [
           {
            "marker": {
             "colorbar": {
              "outlinewidth": 0,
              "ticks": ""
             }
            },
            "type": "scattercarpet"
           }
          ],
          "scattergeo": [
           {
            "marker": {
             "colorbar": {
              "outlinewidth": 0,
              "ticks": ""
             }
            },
            "type": "scattergeo"
           }
          ],
          "scattergl": [
           {
            "marker": {
             "colorbar": {
              "outlinewidth": 0,
              "ticks": ""
             }
            },
            "type": "scattergl"
           }
          ],
          "scattermapbox": [
           {
            "marker": {
             "colorbar": {
              "outlinewidth": 0,
              "ticks": ""
             }
            },
            "type": "scattermapbox"
           }
          ],
          "scatterpolar": [
           {
            "marker": {
             "colorbar": {
              "outlinewidth": 0,
              "ticks": ""
             }
            },
            "type": "scatterpolar"
           }
          ],
          "scatterpolargl": [
           {
            "marker": {
             "colorbar": {
              "outlinewidth": 0,
              "ticks": ""
             }
            },
            "type": "scatterpolargl"
           }
          ],
          "scatterternary": [
           {
            "marker": {
             "colorbar": {
              "outlinewidth": 0,
              "ticks": ""
             }
            },
            "type": "scatterternary"
           }
          ],
          "surface": [
           {
            "colorbar": {
             "outlinewidth": 0,
             "ticks": ""
            },
            "colorscale": [
             [
              0,
              "#0d0887"
             ],
             [
              0.1111111111111111,
              "#46039f"
             ],
             [
              0.2222222222222222,
              "#7201a8"
             ],
             [
              0.3333333333333333,
              "#9c179e"
             ],
             [
              0.4444444444444444,
              "#bd3786"
             ],
             [
              0.5555555555555556,
              "#d8576b"
             ],
             [
              0.6666666666666666,
              "#ed7953"
             ],
             [
              0.7777777777777778,
              "#fb9f3a"
             ],
             [
              0.8888888888888888,
              "#fdca26"
             ],
             [
              1,
              "#f0f921"
             ]
            ],
            "type": "surface"
           }
          ],
          "table": [
           {
            "cells": {
             "fill": {
              "color": "#EBF0F8"
             },
             "line": {
              "color": "white"
             }
            },
            "header": {
             "fill": {
              "color": "#C8D4E3"
             },
             "line": {
              "color": "white"
             }
            },
            "type": "table"
           }
          ]
         },
         "layout": {
          "annotationdefaults": {
           "arrowcolor": "#2a3f5f",
           "arrowhead": 0,
           "arrowwidth": 1
          },
          "autotypenumbers": "strict",
          "coloraxis": {
           "colorbar": {
            "outlinewidth": 0,
            "ticks": ""
           }
          },
          "colorscale": {
           "diverging": [
            [
             0,
             "#8e0152"
            ],
            [
             0.1,
             "#c51b7d"
            ],
            [
             0.2,
             "#de77ae"
            ],
            [
             0.3,
             "#f1b6da"
            ],
            [
             0.4,
             "#fde0ef"
            ],
            [
             0.5,
             "#f7f7f7"
            ],
            [
             0.6,
             "#e6f5d0"
            ],
            [
             0.7,
             "#b8e186"
            ],
            [
             0.8,
             "#7fbc41"
            ],
            [
             0.9,
             "#4d9221"
            ],
            [
             1,
             "#276419"
            ]
           ],
           "sequential": [
            [
             0,
             "#0d0887"
            ],
            [
             0.1111111111111111,
             "#46039f"
            ],
            [
             0.2222222222222222,
             "#7201a8"
            ],
            [
             0.3333333333333333,
             "#9c179e"
            ],
            [
             0.4444444444444444,
             "#bd3786"
            ],
            [
             0.5555555555555556,
             "#d8576b"
            ],
            [
             0.6666666666666666,
             "#ed7953"
            ],
            [
             0.7777777777777778,
             "#fb9f3a"
            ],
            [
             0.8888888888888888,
             "#fdca26"
            ],
            [
             1,
             "#f0f921"
            ]
           ],
           "sequentialminus": [
            [
             0,
             "#0d0887"
            ],
            [
             0.1111111111111111,
             "#46039f"
            ],
            [
             0.2222222222222222,
             "#7201a8"
            ],
            [
             0.3333333333333333,
             "#9c179e"
            ],
            [
             0.4444444444444444,
             "#bd3786"
            ],
            [
             0.5555555555555556,
             "#d8576b"
            ],
            [
             0.6666666666666666,
             "#ed7953"
            ],
            [
             0.7777777777777778,
             "#fb9f3a"
            ],
            [
             0.8888888888888888,
             "#fdca26"
            ],
            [
             1,
             "#f0f921"
            ]
           ]
          },
          "colorway": [
           "#636efa",
           "#EF553B",
           "#00cc96",
           "#ab63fa",
           "#FFA15A",
           "#19d3f3",
           "#FF6692",
           "#B6E880",
           "#FF97FF",
           "#FECB52"
          ],
          "font": {
           "color": "#2a3f5f"
          },
          "geo": {
           "bgcolor": "white",
           "lakecolor": "white",
           "landcolor": "#E5ECF6",
           "showlakes": true,
           "showland": true,
           "subunitcolor": "white"
          },
          "hoverlabel": {
           "align": "left"
          },
          "hovermode": "closest",
          "mapbox": {
           "style": "light"
          },
          "paper_bgcolor": "white",
          "plot_bgcolor": "#E5ECF6",
          "polar": {
           "angularaxis": {
            "gridcolor": "white",
            "linecolor": "white",
            "ticks": ""
           },
           "bgcolor": "#E5ECF6",
           "radialaxis": {
            "gridcolor": "white",
            "linecolor": "white",
            "ticks": ""
           }
          },
          "scene": {
           "xaxis": {
            "backgroundcolor": "#E5ECF6",
            "gridcolor": "white",
            "gridwidth": 2,
            "linecolor": "white",
            "showbackground": true,
            "ticks": "",
            "zerolinecolor": "white"
           },
           "yaxis": {
            "backgroundcolor": "#E5ECF6",
            "gridcolor": "white",
            "gridwidth": 2,
            "linecolor": "white",
            "showbackground": true,
            "ticks": "",
            "zerolinecolor": "white"
           },
           "zaxis": {
            "backgroundcolor": "#E5ECF6",
            "gridcolor": "white",
            "gridwidth": 2,
            "linecolor": "white",
            "showbackground": true,
            "ticks": "",
            "zerolinecolor": "white"
           }
          },
          "shapedefaults": {
           "line": {
            "color": "#2a3f5f"
           }
          },
          "ternary": {
           "aaxis": {
            "gridcolor": "white",
            "linecolor": "white",
            "ticks": ""
           },
           "baxis": {
            "gridcolor": "white",
            "linecolor": "white",
            "ticks": ""
           },
           "bgcolor": "#E5ECF6",
           "caxis": {
            "gridcolor": "white",
            "linecolor": "white",
            "ticks": ""
           }
          },
          "title": {
           "x": 0.05
          },
          "xaxis": {
           "automargin": true,
           "gridcolor": "white",
           "linecolor": "white",
           "ticks": "",
           "title": {
            "standoff": 15
           },
           "zerolinecolor": "white",
           "zerolinewidth": 2
          },
          "yaxis": {
           "automargin": true,
           "gridcolor": "white",
           "linecolor": "white",
           "ticks": "",
           "title": {
            "standoff": 15
           },
           "zerolinecolor": "white",
           "zerolinewidth": 2
          }
         }
        }
       }
      },
      "text/html": [
       "<div>                            <div id=\"f0f3815d-a90a-4ec2-a85a-6df7fe382e1a\" class=\"plotly-graph-div\" style=\"height:525px; width:100%;\"></div>            <script type=\"text/javascript\">                require([\"plotly\"], function(Plotly) {                    window.PLOTLYENV=window.PLOTLYENV || {};                                    if (document.getElementById(\"f0f3815d-a90a-4ec2-a85a-6df7fe382e1a\")) {                    Plotly.newPlot(                        \"f0f3815d-a90a-4ec2-a85a-6df7fe382e1a\",                        [{\"mode\":\"lines+markers\",\"name\":\"\\u0422\\u0435\\u043c\\u043f\\u0435\\u0440\\u0430\\u0442\\u0443\\u0440\\u0430\",\"x\":[\"2024-02-26T21:00:00\",\"2024-02-27T00:00:00\",\"2024-02-27T03:00:00\",\"2024-02-27T06:00:00\",\"2024-02-27T09:00:00\",\"2024-02-27T12:00:00\",\"2024-02-27T15:00:00\",\"2024-02-27T18:00:00\",\"2024-02-27T21:00:00\",\"2024-02-28T00:00:00\",\"2024-02-28T03:00:00\",\"2024-02-28T06:00:00\",\"2024-02-28T09:00:00\",\"2024-02-28T12:00:00\",\"2024-02-28T15:00:00\",\"2024-02-28T18:00:00\",\"2024-02-28T21:00:00\",\"2024-02-29T00:00:00\",\"2024-02-29T03:00:00\",\"2024-02-29T06:00:00\",\"2024-02-29T09:00:00\",\"2024-02-29T12:00:00\",\"2024-02-29T15:00:00\",\"2024-02-29T18:00:00\",\"2024-02-29T21:00:00\",\"2024-03-01T00:00:00\",\"2024-03-01T03:00:00\",\"2024-03-01T06:00:00\",\"2024-03-01T09:00:00\",\"2024-03-01T12:00:00\",\"2024-03-01T15:00:00\",\"2024-03-01T18:00:00\",\"2024-03-01T21:00:00\",\"2024-03-02T00:00:00\",\"2024-03-02T03:00:00\",\"2024-03-02T06:00:00\",\"2024-03-02T09:00:00\",\"2024-03-02T12:00:00\",\"2024-03-02T15:00:00\",\"2024-03-02T18:00:00\"],\"y\":[2.68,0.62,-1.23,0.17,4.89,7.01,5.06,2.48,0.26,-0.67,-0.96,0.18,5.2,7.44,5.45,3.16,1.58,0.22,-0.58,0.8,5.8,8.4,7.13,4.38,2.88,1.5,0.37,1.47,6.56,9.0,7.35,5.28,3.6,2.13,0.94,2.22,6.66,8.93,6.87,4.28],\"type\":\"scatter\"},{\"mode\":\"lines+markers\",\"name\":\"\\u041c\\u0438\\u043d\\u0438\\u043c\\u0430\\u043b\\u044c\\u043d\\u0430\\u044f \\u0442\\u0435\\u043c\\u043f\\u0435\\u0440\\u0430\\u0442\\u0443\\u0440\\u0430\",\"x\":[\"2024-02-26T21:00:00\",\"2024-02-27T00:00:00\",\"2024-02-27T03:00:00\",\"2024-02-27T06:00:00\",\"2024-02-27T09:00:00\",\"2024-02-27T12:00:00\",\"2024-02-27T15:00:00\",\"2024-02-27T18:00:00\",\"2024-02-27T21:00:00\",\"2024-02-28T00:00:00\",\"2024-02-28T03:00:00\",\"2024-02-28T06:00:00\",\"2024-02-28T09:00:00\",\"2024-02-28T12:00:00\",\"2024-02-28T15:00:00\",\"2024-02-28T18:00:00\",\"2024-02-28T21:00:00\",\"2024-02-29T00:00:00\",\"2024-02-29T03:00:00\",\"2024-02-29T06:00:00\",\"2024-02-29T09:00:00\",\"2024-02-29T12:00:00\",\"2024-02-29T15:00:00\",\"2024-02-29T18:00:00\",\"2024-02-29T21:00:00\",\"2024-03-01T00:00:00\",\"2024-03-01T03:00:00\",\"2024-03-01T06:00:00\",\"2024-03-01T09:00:00\",\"2024-03-01T12:00:00\",\"2024-03-01T15:00:00\",\"2024-03-01T18:00:00\",\"2024-03-01T21:00:00\",\"2024-03-02T00:00:00\",\"2024-03-02T03:00:00\",\"2024-03-02T06:00:00\",\"2024-03-02T09:00:00\",\"2024-03-02T12:00:00\",\"2024-03-02T15:00:00\",\"2024-03-02T18:00:00\"],\"y\":[-0.09,-1.11,-1.23,0.17,4.89,7.01,5.06,2.48,0.26,-0.67,-0.96,0.18,5.2,7.44,5.45,3.16,1.58,0.22,-0.58,0.8,5.8,8.4,7.13,4.38,2.88,1.5,0.37,1.47,6.56,9.0,7.35,5.28,3.6,2.13,0.94,2.22,6.66,8.93,6.87,4.28],\"type\":\"scatter\"},{\"mode\":\"lines+markers\",\"name\":\"\\u041c\\u0430\\u043a\\u0441\\u0438\\u043c\\u0430\\u043b\\u044c\\u043d\\u0430\\u044f \\u0442\\u0435\\u043c\\u043f\\u0435\\u0440\\u0430\\u0442\\u0443\\u0440\\u0430\",\"x\":[\"2024-02-26T21:00:00\",\"2024-02-27T00:00:00\",\"2024-02-27T03:00:00\",\"2024-02-27T06:00:00\",\"2024-02-27T09:00:00\",\"2024-02-27T12:00:00\",\"2024-02-27T15:00:00\",\"2024-02-27T18:00:00\",\"2024-02-27T21:00:00\",\"2024-02-28T00:00:00\",\"2024-02-28T03:00:00\",\"2024-02-28T06:00:00\",\"2024-02-28T09:00:00\",\"2024-02-28T12:00:00\",\"2024-02-28T15:00:00\",\"2024-02-28T18:00:00\",\"2024-02-28T21:00:00\",\"2024-02-29T00:00:00\",\"2024-02-29T03:00:00\",\"2024-02-29T06:00:00\",\"2024-02-29T09:00:00\",\"2024-02-29T12:00:00\",\"2024-02-29T15:00:00\",\"2024-02-29T18:00:00\",\"2024-02-29T21:00:00\",\"2024-03-01T00:00:00\",\"2024-03-01T03:00:00\",\"2024-03-01T06:00:00\",\"2024-03-01T09:00:00\",\"2024-03-01T12:00:00\",\"2024-03-01T15:00:00\",\"2024-03-01T18:00:00\",\"2024-03-01T21:00:00\",\"2024-03-02T00:00:00\",\"2024-03-02T03:00:00\",\"2024-03-02T06:00:00\",\"2024-03-02T09:00:00\",\"2024-03-02T12:00:00\",\"2024-03-02T15:00:00\",\"2024-03-02T18:00:00\"],\"y\":[2.68,0.62,-1.23,0.17,4.89,7.01,5.06,2.48,0.26,-0.67,-0.96,0.18,5.2,7.44,5.45,3.16,1.58,0.22,-0.58,0.8,5.8,8.4,7.13,4.38,2.88,1.5,0.37,1.47,6.56,9.0,7.35,5.28,3.6,2.13,0.94,2.22,6.66,8.93,6.87,4.28],\"type\":\"scatter\"}],                        {\"template\":{\"data\":{\"histogram2dcontour\":[{\"type\":\"histogram2dcontour\",\"colorbar\":{\"outlinewidth\":0,\"ticks\":\"\"},\"colorscale\":[[0.0,\"#0d0887\"],[0.1111111111111111,\"#46039f\"],[0.2222222222222222,\"#7201a8\"],[0.3333333333333333,\"#9c179e\"],[0.4444444444444444,\"#bd3786\"],[0.5555555555555556,\"#d8576b\"],[0.6666666666666666,\"#ed7953\"],[0.7777777777777778,\"#fb9f3a\"],[0.8888888888888888,\"#fdca26\"],[1.0,\"#f0f921\"]]}],\"choropleth\":[{\"type\":\"choropleth\",\"colorbar\":{\"outlinewidth\":0,\"ticks\":\"\"}}],\"histogram2d\":[{\"type\":\"histogram2d\",\"colorbar\":{\"outlinewidth\":0,\"ticks\":\"\"},\"colorscale\":[[0.0,\"#0d0887\"],[0.1111111111111111,\"#46039f\"],[0.2222222222222222,\"#7201a8\"],[0.3333333333333333,\"#9c179e\"],[0.4444444444444444,\"#bd3786\"],[0.5555555555555556,\"#d8576b\"],[0.6666666666666666,\"#ed7953\"],[0.7777777777777778,\"#fb9f3a\"],[0.8888888888888888,\"#fdca26\"],[1.0,\"#f0f921\"]]}],\"heatmap\":[{\"type\":\"heatmap\",\"colorbar\":{\"outlinewidth\":0,\"ticks\":\"\"},\"colorscale\":[[0.0,\"#0d0887\"],[0.1111111111111111,\"#46039f\"],[0.2222222222222222,\"#7201a8\"],[0.3333333333333333,\"#9c179e\"],[0.4444444444444444,\"#bd3786\"],[0.5555555555555556,\"#d8576b\"],[0.6666666666666666,\"#ed7953\"],[0.7777777777777778,\"#fb9f3a\"],[0.8888888888888888,\"#fdca26\"],[1.0,\"#f0f921\"]]}],\"heatmapgl\":[{\"type\":\"heatmapgl\",\"colorbar\":{\"outlinewidth\":0,\"ticks\":\"\"},\"colorscale\":[[0.0,\"#0d0887\"],[0.1111111111111111,\"#46039f\"],[0.2222222222222222,\"#7201a8\"],[0.3333333333333333,\"#9c179e\"],[0.4444444444444444,\"#bd3786\"],[0.5555555555555556,\"#d8576b\"],[0.6666666666666666,\"#ed7953\"],[0.7777777777777778,\"#fb9f3a\"],[0.8888888888888888,\"#fdca26\"],[1.0,\"#f0f921\"]]}],\"contourcarpet\":[{\"type\":\"contourcarpet\",\"colorbar\":{\"outlinewidth\":0,\"ticks\":\"\"}}],\"contour\":[{\"type\":\"contour\",\"colorbar\":{\"outlinewidth\":0,\"ticks\":\"\"},\"colorscale\":[[0.0,\"#0d0887\"],[0.1111111111111111,\"#46039f\"],[0.2222222222222222,\"#7201a8\"],[0.3333333333333333,\"#9c179e\"],[0.4444444444444444,\"#bd3786\"],[0.5555555555555556,\"#d8576b\"],[0.6666666666666666,\"#ed7953\"],[0.7777777777777778,\"#fb9f3a\"],[0.8888888888888888,\"#fdca26\"],[1.0,\"#f0f921\"]]}],\"surface\":[{\"type\":\"surface\",\"colorbar\":{\"outlinewidth\":0,\"ticks\":\"\"},\"colorscale\":[[0.0,\"#0d0887\"],[0.1111111111111111,\"#46039f\"],[0.2222222222222222,\"#7201a8\"],[0.3333333333333333,\"#9c179e\"],[0.4444444444444444,\"#bd3786\"],[0.5555555555555556,\"#d8576b\"],[0.6666666666666666,\"#ed7953\"],[0.7777777777777778,\"#fb9f3a\"],[0.8888888888888888,\"#fdca26\"],[1.0,\"#f0f921\"]]}],\"mesh3d\":[{\"type\":\"mesh3d\",\"colorbar\":{\"outlinewidth\":0,\"ticks\":\"\"}}],\"scatter\":[{\"fillpattern\":{\"fillmode\":\"overlay\",\"size\":10,\"solidity\":0.2},\"type\":\"scatter\"}],\"parcoords\":[{\"type\":\"parcoords\",\"line\":{\"colorbar\":{\"outlinewidth\":0,\"ticks\":\"\"}}}],\"scatterpolargl\":[{\"type\":\"scatterpolargl\",\"marker\":{\"colorbar\":{\"outlinewidth\":0,\"ticks\":\"\"}}}],\"bar\":[{\"error_x\":{\"color\":\"#2a3f5f\"},\"error_y\":{\"color\":\"#2a3f5f\"},\"marker\":{\"line\":{\"color\":\"#E5ECF6\",\"width\":0.5},\"pattern\":{\"fillmode\":\"overlay\",\"size\":10,\"solidity\":0.2}},\"type\":\"bar\"}],\"scattergeo\":[{\"type\":\"scattergeo\",\"marker\":{\"colorbar\":{\"outlinewidth\":0,\"ticks\":\"\"}}}],\"scatterpolar\":[{\"type\":\"scatterpolar\",\"marker\":{\"colorbar\":{\"outlinewidth\":0,\"ticks\":\"\"}}}],\"histogram\":[{\"marker\":{\"pattern\":{\"fillmode\":\"overlay\",\"size\":10,\"solidity\":0.2}},\"type\":\"histogram\"}],\"scattergl\":[{\"type\":\"scattergl\",\"marker\":{\"colorbar\":{\"outlinewidth\":0,\"ticks\":\"\"}}}],\"scatter3d\":[{\"type\":\"scatter3d\",\"line\":{\"colorbar\":{\"outlinewidth\":0,\"ticks\":\"\"}},\"marker\":{\"colorbar\":{\"outlinewidth\":0,\"ticks\":\"\"}}}],\"scattermapbox\":[{\"type\":\"scattermapbox\",\"marker\":{\"colorbar\":{\"outlinewidth\":0,\"ticks\":\"\"}}}],\"scatterternary\":[{\"type\":\"scatterternary\",\"marker\":{\"colorbar\":{\"outlinewidth\":0,\"ticks\":\"\"}}}],\"scattercarpet\":[{\"type\":\"scattercarpet\",\"marker\":{\"colorbar\":{\"outlinewidth\":0,\"ticks\":\"\"}}}],\"carpet\":[{\"aaxis\":{\"endlinecolor\":\"#2a3f5f\",\"gridcolor\":\"white\",\"linecolor\":\"white\",\"minorgridcolor\":\"white\",\"startlinecolor\":\"#2a3f5f\"},\"baxis\":{\"endlinecolor\":\"#2a3f5f\",\"gridcolor\":\"white\",\"linecolor\":\"white\",\"minorgridcolor\":\"white\",\"startlinecolor\":\"#2a3f5f\"},\"type\":\"carpet\"}],\"table\":[{\"cells\":{\"fill\":{\"color\":\"#EBF0F8\"},\"line\":{\"color\":\"white\"}},\"header\":{\"fill\":{\"color\":\"#C8D4E3\"},\"line\":{\"color\":\"white\"}},\"type\":\"table\"}],\"barpolar\":[{\"marker\":{\"line\":{\"color\":\"#E5ECF6\",\"width\":0.5},\"pattern\":{\"fillmode\":\"overlay\",\"size\":10,\"solidity\":0.2}},\"type\":\"barpolar\"}],\"pie\":[{\"automargin\":true,\"type\":\"pie\"}]},\"layout\":{\"autotypenumbers\":\"strict\",\"colorway\":[\"#636efa\",\"#EF553B\",\"#00cc96\",\"#ab63fa\",\"#FFA15A\",\"#19d3f3\",\"#FF6692\",\"#B6E880\",\"#FF97FF\",\"#FECB52\"],\"font\":{\"color\":\"#2a3f5f\"},\"hovermode\":\"closest\",\"hoverlabel\":{\"align\":\"left\"},\"paper_bgcolor\":\"white\",\"plot_bgcolor\":\"#E5ECF6\",\"polar\":{\"bgcolor\":\"#E5ECF6\",\"angularaxis\":{\"gridcolor\":\"white\",\"linecolor\":\"white\",\"ticks\":\"\"},\"radialaxis\":{\"gridcolor\":\"white\",\"linecolor\":\"white\",\"ticks\":\"\"}},\"ternary\":{\"bgcolor\":\"#E5ECF6\",\"aaxis\":{\"gridcolor\":\"white\",\"linecolor\":\"white\",\"ticks\":\"\"},\"baxis\":{\"gridcolor\":\"white\",\"linecolor\":\"white\",\"ticks\":\"\"},\"caxis\":{\"gridcolor\":\"white\",\"linecolor\":\"white\",\"ticks\":\"\"}},\"coloraxis\":{\"colorbar\":{\"outlinewidth\":0,\"ticks\":\"\"}},\"colorscale\":{\"sequential\":[[0.0,\"#0d0887\"],[0.1111111111111111,\"#46039f\"],[0.2222222222222222,\"#7201a8\"],[0.3333333333333333,\"#9c179e\"],[0.4444444444444444,\"#bd3786\"],[0.5555555555555556,\"#d8576b\"],[0.6666666666666666,\"#ed7953\"],[0.7777777777777778,\"#fb9f3a\"],[0.8888888888888888,\"#fdca26\"],[1.0,\"#f0f921\"]],\"sequentialminus\":[[0.0,\"#0d0887\"],[0.1111111111111111,\"#46039f\"],[0.2222222222222222,\"#7201a8\"],[0.3333333333333333,\"#9c179e\"],[0.4444444444444444,\"#bd3786\"],[0.5555555555555556,\"#d8576b\"],[0.6666666666666666,\"#ed7953\"],[0.7777777777777778,\"#fb9f3a\"],[0.8888888888888888,\"#fdca26\"],[1.0,\"#f0f921\"]],\"diverging\":[[0,\"#8e0152\"],[0.1,\"#c51b7d\"],[0.2,\"#de77ae\"],[0.3,\"#f1b6da\"],[0.4,\"#fde0ef\"],[0.5,\"#f7f7f7\"],[0.6,\"#e6f5d0\"],[0.7,\"#b8e186\"],[0.8,\"#7fbc41\"],[0.9,\"#4d9221\"],[1,\"#276419\"]]},\"xaxis\":{\"gridcolor\":\"white\",\"linecolor\":\"white\",\"ticks\":\"\",\"title\":{\"standoff\":15},\"zerolinecolor\":\"white\",\"automargin\":true,\"zerolinewidth\":2},\"yaxis\":{\"gridcolor\":\"white\",\"linecolor\":\"white\",\"ticks\":\"\",\"title\":{\"standoff\":15},\"zerolinecolor\":\"white\",\"automargin\":true,\"zerolinewidth\":2},\"scene\":{\"xaxis\":{\"backgroundcolor\":\"#E5ECF6\",\"gridcolor\":\"white\",\"linecolor\":\"white\",\"showbackground\":true,\"ticks\":\"\",\"zerolinecolor\":\"white\",\"gridwidth\":2},\"yaxis\":{\"backgroundcolor\":\"#E5ECF6\",\"gridcolor\":\"white\",\"linecolor\":\"white\",\"showbackground\":true,\"ticks\":\"\",\"zerolinecolor\":\"white\",\"gridwidth\":2},\"zaxis\":{\"backgroundcolor\":\"#E5ECF6\",\"gridcolor\":\"white\",\"linecolor\":\"white\",\"showbackground\":true,\"ticks\":\"\",\"zerolinecolor\":\"white\",\"gridwidth\":2}},\"shapedefaults\":{\"line\":{\"color\":\"#2a3f5f\"}},\"annotationdefaults\":{\"arrowcolor\":\"#2a3f5f\",\"arrowhead\":0,\"arrowwidth\":1},\"geo\":{\"bgcolor\":\"white\",\"landcolor\":\"#E5ECF6\",\"subunitcolor\":\"white\",\"showland\":true,\"showlakes\":true,\"lakecolor\":\"white\"},\"title\":{\"x\":0.05},\"mapbox\":{\"style\":\"light\"}}}},                        {\"responsive\": true}                    ).then(function(){\n",
       "                            \n",
       "var gd = document.getElementById('f0f3815d-a90a-4ec2-a85a-6df7fe382e1a');\n",
       "var x = new MutationObserver(function (mutations, observer) {{\n",
       "        var display = window.getComputedStyle(gd).display;\n",
       "        if (!display || display === 'none') {{\n",
       "            console.log([gd, 'removed!']);\n",
       "            Plotly.purge(gd);\n",
       "            observer.disconnect();\n",
       "        }}\n",
       "}});\n",
       "\n",
       "// Listen for the removal of the full notebook cells\n",
       "var notebookContainer = gd.closest('#notebook-container');\n",
       "if (notebookContainer) {{\n",
       "    x.observe(notebookContainer, {childList: true});\n",
       "}}\n",
       "\n",
       "// Listen for the clearing of the current output cell\n",
       "var outputEl = gd.closest('.output');\n",
       "if (outputEl) {{\n",
       "    x.observe(outputEl, {childList: true});\n",
       "}}\n",
       "\n",
       "                        })                };                });            </script>        </div>"
      ]
     },
     "metadata": {},
     "output_type": "display_data"
    }
   ],
   "source": [
    "fig = go.Figure()\n",
    "fig.add_trace(go.Scatter(x=df['Дата и время'], y=df['Температура'],\n",
    "                    mode='lines+markers',\n",
    "                    name='Температура'))\n",
    "fig.add_trace(go.Scatter(x=df['Дата и время'], y=df['Минимальная температура'],\n",
    "                    mode='lines+markers',\n",
    "                    name='Минимальная температура'))\n",
    "fig.add_trace(go.Scatter(x=df['Дата и время'], y=df['Максимальная температура'],\n",
    "                    mode='lines+markers', \n",
    "                    name='Максимальная температура'))\n",
    "\n",
    "fig.show()"
   ]
  },
  {
   "cell_type": "markdown",
   "id": "fc5b4343",
   "metadata": {},
   "source": [
    "Так как разницы между максимальной, средней и минимальной температурой нет, удалим ненужные колонки для получения данных в удобном виде."
   ]
  },
  {
   "cell_type": "code",
   "execution_count": 48,
   "id": "b4452a9b",
   "metadata": {},
   "outputs": [
    {
     "data": {
      "text/html": [
       "<div>\n",
       "<style scoped>\n",
       "    .dataframe tbody tr th:only-of-type {\n",
       "        vertical-align: middle;\n",
       "    }\n",
       "\n",
       "    .dataframe tbody tr th {\n",
       "        vertical-align: top;\n",
       "    }\n",
       "\n",
       "    .dataframe thead th {\n",
       "        text-align: right;\n",
       "    }\n",
       "</style>\n",
       "<table border=\"1\" class=\"dataframe\">\n",
       "  <thead>\n",
       "    <tr style=\"text-align: right;\">\n",
       "      <th></th>\n",
       "      <th>Дата и время</th>\n",
       "      <th>Температура</th>\n",
       "      <th>Влажность</th>\n",
       "      <th>Видимость</th>\n",
       "      <th>Скорость ветра</th>\n",
       "      <th>Направление ветра</th>\n",
       "      <th>Порывы</th>\n",
       "      <th>Описание</th>\n",
       "    </tr>\n",
       "  </thead>\n",
       "  <tbody>\n",
       "    <tr>\n",
       "      <th>0</th>\n",
       "      <td>2024-02-26 21:00:00</td>\n",
       "      <td>2.68</td>\n",
       "      <td>49</td>\n",
       "      <td>10000</td>\n",
       "      <td>8.07</td>\n",
       "      <td>В</td>\n",
       "      <td>18.00</td>\n",
       "      <td>clear sky</td>\n",
       "    </tr>\n",
       "    <tr>\n",
       "      <th>1</th>\n",
       "      <td>2024-02-27 00:00:00</td>\n",
       "      <td>0.62</td>\n",
       "      <td>57</td>\n",
       "      <td>10000</td>\n",
       "      <td>7.79</td>\n",
       "      <td>В</td>\n",
       "      <td>17.22</td>\n",
       "      <td>clear sky</td>\n",
       "    </tr>\n",
       "    <tr>\n",
       "      <th>2</th>\n",
       "      <td>2024-02-27 03:00:00</td>\n",
       "      <td>-1.23</td>\n",
       "      <td>66</td>\n",
       "      <td>10000</td>\n",
       "      <td>7.78</td>\n",
       "      <td>В</td>\n",
       "      <td>17.54</td>\n",
       "      <td>clear sky</td>\n",
       "    </tr>\n",
       "    <tr>\n",
       "      <th>3</th>\n",
       "      <td>2024-02-27 06:00:00</td>\n",
       "      <td>0.17</td>\n",
       "      <td>61</td>\n",
       "      <td>10000</td>\n",
       "      <td>8.08</td>\n",
       "      <td>В</td>\n",
       "      <td>17.44</td>\n",
       "      <td>clear sky</td>\n",
       "    </tr>\n",
       "    <tr>\n",
       "      <th>4</th>\n",
       "      <td>2024-02-27 09:00:00</td>\n",
       "      <td>4.89</td>\n",
       "      <td>42</td>\n",
       "      <td>10000</td>\n",
       "      <td>8.86</td>\n",
       "      <td>В</td>\n",
       "      <td>14.18</td>\n",
       "      <td>clear sky</td>\n",
       "    </tr>\n",
       "  </tbody>\n",
       "</table>\n",
       "</div>"
      ],
      "text/plain": [
       "         Дата и время  Температура  Влажность  Видимость  Скорость ветра  \\\n",
       "0 2024-02-26 21:00:00         2.68         49      10000            8.07   \n",
       "1 2024-02-27 00:00:00         0.62         57      10000            7.79   \n",
       "2 2024-02-27 03:00:00        -1.23         66      10000            7.78   \n",
       "3 2024-02-27 06:00:00         0.17         61      10000            8.08   \n",
       "4 2024-02-27 09:00:00         4.89         42      10000            8.86   \n",
       "\n",
       "  Направление ветра  Порывы   Описание  \n",
       "0                 В   18.00  clear sky  \n",
       "1                 В   17.22  clear sky  \n",
       "2                 В   17.54  clear sky  \n",
       "3                 В   17.44  clear sky  \n",
       "4                 В   14.18  clear sky  "
      ]
     },
     "execution_count": 48,
     "metadata": {},
     "output_type": "execute_result"
    }
   ],
   "source": [
    "df = df.drop(columns=['Минимальная температура','Максимальная температура'])\n",
    "df.head()"
   ]
  }
 ],
 "metadata": {
  "kernelspec": {
   "display_name": "Python 3 (ipykernel)",
   "language": "python",
   "name": "python3"
  },
  "language_info": {
   "codemirror_mode": {
    "name": "ipython",
    "version": 3
   },
   "file_extension": ".py",
   "mimetype": "text/x-python",
   "name": "python",
   "nbconvert_exporter": "python",
   "pygments_lexer": "ipython3",
   "version": "3.9.7"
  }
 },
 "nbformat": 4,
 "nbformat_minor": 5
}
